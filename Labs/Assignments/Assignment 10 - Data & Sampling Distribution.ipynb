{
 "cells": [
  {
   "cell_type": "markdown",
   "id": "fb6610cd",
   "metadata": {},
   "source": [
    "# <center>DATA AND SAMPLING DISTRIBUTION</center>"
   ]
  },
  {
   "cell_type": "code",
   "execution_count": 25,
   "id": "08434482",
   "metadata": {},
   "outputs": [],
   "source": [
    "import numpy as np\n",
    "import pandas as pd\n",
    "import scipy.stats as stats\n",
    "from scipy.stats import binom\n",
    "import seaborn as sns\n",
    "import pylab\n",
    "\n",
    "import matplotlib.pyplot as plt\n",
    "%matplotlib inline"
   ]
  },
  {
   "cell_type": "code",
   "execution_count": 26,
   "id": "eafe461f",
   "metadata": {},
   "outputs": [],
   "source": [
    "loans_income = pd.read_csv('./Dataset/loans_income.csv')"
   ]
  },
  {
   "cell_type": "code",
   "execution_count": 27,
   "id": "cf7ccd3d",
   "metadata": {},
   "outputs": [],
   "source": [
    "sp500_px = pd.read_csv('./Dataset/sp500_px.txt')"
   ]
  },
  {
   "cell_type": "code",
   "execution_count": 28,
   "id": "528ca69c",
   "metadata": {},
   "outputs": [
    {
     "data": {
      "text/plain": [
       "(50000, 1)"
      ]
     },
     "execution_count": 28,
     "metadata": {},
     "output_type": "execute_result"
    }
   ],
   "source": [
    "loans_income.shape"
   ]
  },
  {
   "cell_type": "code",
   "execution_count": 29,
   "id": "483f77d4",
   "metadata": {},
   "outputs": [
    {
     "data": {
      "text/plain": [
       "(5647, 518)"
      ]
     },
     "execution_count": 29,
     "metadata": {},
     "output_type": "execute_result"
    }
   ],
   "source": [
    "sp500_px.shape"
   ]
  },
  {
   "cell_type": "code",
   "execution_count": 30,
   "id": "30fc6b60",
   "metadata": {},
   "outputs": [],
   "source": [
    "loans_sample = loans_income.sample(n=1000)"
   ]
  },
  {
   "cell_type": "code",
   "execution_count": 31,
   "id": "5996e6cc",
   "metadata": {},
   "outputs": [
    {
     "data": {
      "text/plain": [
       "(1000, 1)"
      ]
     },
     "execution_count": 31,
     "metadata": {},
     "output_type": "execute_result"
    }
   ],
   "source": [
    "loans_sample.shape"
   ]
  },
  {
   "cell_type": "code",
   "execution_count": 32,
   "id": "535624ad",
   "metadata": {},
   "outputs": [
    {
     "data": {
      "text/html": [
       "<div>\n",
       "<style scoped>\n",
       "    .dataframe tbody tr th:only-of-type {\n",
       "        vertical-align: middle;\n",
       "    }\n",
       "\n",
       "    .dataframe tbody tr th {\n",
       "        vertical-align: top;\n",
       "    }\n",
       "\n",
       "    .dataframe thead th {\n",
       "        text-align: right;\n",
       "    }\n",
       "</style>\n",
       "<table border=\"1\" class=\"dataframe\">\n",
       "  <thead>\n",
       "    <tr style=\"text-align: right;\">\n",
       "      <th></th>\n",
       "      <th>x</th>\n",
       "    </tr>\n",
       "  </thead>\n",
       "  <tbody>\n",
       "    <tr>\n",
       "      <th>46735</th>\n",
       "      <td>45000</td>\n",
       "    </tr>\n",
       "    <tr>\n",
       "      <th>47292</th>\n",
       "      <td>45000</td>\n",
       "    </tr>\n",
       "    <tr>\n",
       "      <th>5991</th>\n",
       "      <td>62000</td>\n",
       "    </tr>\n",
       "    <tr>\n",
       "      <th>27169</th>\n",
       "      <td>68000</td>\n",
       "    </tr>\n",
       "    <tr>\n",
       "      <th>32304</th>\n",
       "      <td>39000</td>\n",
       "    </tr>\n",
       "  </tbody>\n",
       "</table>\n",
       "</div>"
      ],
      "text/plain": [
       "           x\n",
       "46735  45000\n",
       "47292  45000\n",
       "5991   62000\n",
       "27169  68000\n",
       "32304  39000"
      ]
     },
     "execution_count": 32,
     "metadata": {},
     "output_type": "execute_result"
    }
   ],
   "source": [
    "loans_sample.head()"
   ]
  },
  {
   "cell_type": "code",
   "execution_count": 33,
   "id": "bfd0bffb",
   "metadata": {},
   "outputs": [],
   "source": [
    "#mean of 5 numbers\n",
    "sample_mean_5 = loans_sample.rolling(5).mean().x"
   ]
  },
  {
   "cell_type": "code",
   "execution_count": 34,
   "id": "d999e296",
   "metadata": {},
   "outputs": [
    {
     "data": {
      "text/plain": [
       "46735        NaN\n",
       "47292        NaN\n",
       "5991         NaN\n",
       "27169        NaN\n",
       "32304    51800.0\n",
       "          ...   \n",
       "40153    58800.0\n",
       "25169    51200.0\n",
       "22022    60200.0\n",
       "36147    72200.0\n",
       "30879    94200.0\n",
       "Name: x, Length: 1000, dtype: float64"
      ]
     },
     "execution_count": 34,
     "metadata": {},
     "output_type": "execute_result"
    }
   ],
   "source": [
    "sample_mean_5"
   ]
  },
  {
   "cell_type": "code",
   "execution_count": 35,
   "id": "81d56f60",
   "metadata": {},
   "outputs": [],
   "source": [
    "sample_mean_5 = sample_mean_5.dropna()"
   ]
  },
  {
   "cell_type": "code",
   "execution_count": 36,
   "id": "612e56a2",
   "metadata": {},
   "outputs": [
    {
     "data": {
      "text/plain": [
       "32304    51800.0\n",
       "9896     46000.0\n",
       "28199    45200.0\n",
       "10267    44300.0\n",
       "1466     43300.0\n",
       "          ...   \n",
       "40153    58800.0\n",
       "25169    51200.0\n",
       "22022    60200.0\n",
       "36147    72200.0\n",
       "30879    94200.0\n",
       "Name: x, Length: 996, dtype: float64"
      ]
     },
     "execution_count": 36,
     "metadata": {},
     "output_type": "execute_result"
    }
   ],
   "source": [
    "sample_mean_5"
   ]
  },
  {
   "cell_type": "code",
   "execution_count": 37,
   "id": "cd40c5f4",
   "metadata": {},
   "outputs": [],
   "source": [
    "#mean of 20 numbers\n",
    "sample_mean_20 = loans_income.rolling(20).mean().x\n",
    "sample_mean_20 = sample_mean_20.dropna()\n",
    "\n"
   ]
  },
  {
   "cell_type": "code",
   "execution_count": 38,
   "id": "d36fbe7c",
   "metadata": {},
   "outputs": [
    {
     "data": {
      "text/plain": [
       "19       71966.6\n",
       "20       70116.6\n",
       "21       71516.6\n",
       "22       68516.6\n",
       "23       68578.5\n",
       "          ...   \n",
       "49995    85425.0\n",
       "49996    84475.0\n",
       "49997    82975.0\n",
       "49998    84575.0\n",
       "49999    84675.0\n",
       "Name: x, Length: 49981, dtype: float64"
      ]
     },
     "execution_count": 38,
     "metadata": {},
     "output_type": "execute_result"
    }
   ],
   "source": [
    "sample_mean_20"
   ]
  },
  {
   "cell_type": "code",
   "execution_count": 39,
   "id": "dcded0af",
   "metadata": {},
   "outputs": [],
   "source": [
    "# mean of 30 numbers\n",
    "sample_mean_30 = loans_income.rolling(30).mean().x\n",
    "sample_mean_30 = sample_mean_30.dropna()"
   ]
  },
  {
   "cell_type": "code",
   "execution_count": 40,
   "id": "3ec6bca8",
   "metadata": {},
   "outputs": [
    {
     "data": {
      "text/plain": [
       "29       67244.333333\n",
       "30       69211.000000\n",
       "31       69599.000000\n",
       "32       67599.000000\n",
       "33       70073.600000\n",
       "             ...     \n",
       "49995    79880.066667\n",
       "49996    79720.066667\n",
       "49997    79386.733333\n",
       "49998    81520.066667\n",
       "49999    81620.066667\n",
       "Name: x, Length: 49971, dtype: float64"
      ]
     },
     "execution_count": 40,
     "metadata": {},
     "output_type": "execute_result"
    }
   ],
   "source": [
    "sample_mean_30"
   ]
  },
  {
   "cell_type": "code",
   "execution_count": 45,
   "id": "f81e1026",
   "metadata": {},
   "outputs": [
    {
     "data": {
      "image/png": "[encoded data removed]",
      "text/plain": [
       "<Figure size 720x720 with 4 Axes>"
      ]
     },
     "metadata": {
      "needs_background": "light"
     },
     "output_type": "display_data"
    }
   ],
   "source": [
    "fig = plt.figure(figsize=(10,10))\n",
    "#The full distribution of the plot:\n",
    "ax = fig.add_subplot(2,2,1)\n",
    "ax.hist(loans_income.x,bins=25)\n",
    "plt.title('Full Plot of the whole DATAFRAME')\n",
    "\n",
    "#distribution of 1000 samples:\n",
    "\n",
    "ax = fig.add_subplot(2,2,2)\n",
    "ax.hist(loans_sample.x,bins=40)\n",
    "plt.title('Full Plot of the 1000 samples')\n",
    "\n",
    "#distribution of means of 5 numbers from 1000 samples:\n",
    "ax = fig.add_subplot(2,2,3)\n",
    "ax.hist(sample_mean_5,bins=40)\n",
    "plt.title('Plot of Rolling Mean 5 of the 1000 samples')\n",
    "\n",
    "#distribution of means of 20 numbers from 1000 samples:\n",
    "ax = fig.add_subplot(2,2,4)\n",
    "ax.hist(sample_mean_20,bins=40,label='Mean of 20')\n",
    "ax.hist(sample_mean_30,bins=40,label='Mean of 30')\n",
    "plt.title('Plot of Rolling Mean 20 and 30 of the 1000 samples')\n",
    "\n",
    "ax.legend()\n",
    "plt.show()"
   ]
  },
  {
   "cell_type": "markdown",
   "id": "dc73b2d4",
   "metadata": {},
   "source": [
    "### Population stats"
   ]
  },
  {
   "cell_type": "code",
   "execution_count": 46,
   "id": "1666f4bd",
   "metadata": {},
   "outputs": [
    {
     "name": "stdout",
     "output_type": "stream",
     "text": [
      "Total Population STD :  32872.03536985002\n",
      "Total Population Mean :  68760.51844\n",
      "Total Population Median :  62000.0\n",
      "Total Population Standard Error: 147.00821129152527\n"
     ]
    }
   ],
   "source": [
    "#Calculating a rolling mean:\n",
    "print('Total Population STD : ',loans_income.x.std())\n",
    "print('Total Population Mean : ',loans_income.x.mean())\n",
    "print('Total Population Median : ',np.median(loans_income.x))\n",
    "print('Total Population Standard Error:',stats.sem(loans_income.x, ddof=1))"
   ]
  },
  {
   "cell_type": "markdown",
   "id": "25d1e48b",
   "metadata": {},
   "source": [
    "### Bootstrapping for 1000,10000,20000 Samples"
   ]
  },
  {
   "cell_type": "code",
   "execution_count": 47,
   "id": "39e3e709",
   "metadata": {},
   "outputs": [],
   "source": [
    "bootstrap_1000 = np.random.choice(loans_income.x,size=1000,replace=True)\n",
    "bootstrap_10000 = np.random.choice(loans_income.x,size=10000,replace=True)\n",
    "bootstrap_20000 = np.random.choice(loans_income.x,size=20000,replace=True)"
   ]
  },
  {
   "cell_type": "code",
   "execution_count": 53,
   "id": "d01b1f31",
   "metadata": {},
   "outputs": [
    {
     "data": {
      "text/plain": [
       "array([ 67600,  72000,  60000, 120000,  95000,  32000,  60000,  30280,\n",
       "        95000,  80000], dtype=int64)"
      ]
     },
     "execution_count": 53,
     "metadata": {},
     "output_type": "execute_result"
    }
   ],
   "source": [
    "bootstrap_1000[:10]"
   ]
  },
  {
   "cell_type": "code",
   "execution_count": 50,
   "id": "57596d97",
   "metadata": {},
   "outputs": [
    {
     "data": {
      "text/plain": [
       "array([ 35000,  38000, 120000, ...,  39048,  60000, 120000], dtype=int64)"
      ]
     },
     "execution_count": 50,
     "metadata": {},
     "output_type": "execute_result"
    }
   ],
   "source": [
    "bootstrap_10000"
   ]
  },
  {
   "cell_type": "code",
   "execution_count": 54,
   "id": "807dd470",
   "metadata": {},
   "outputs": [
    {
     "data": {
      "text/plain": [
       "array([ 23500,  82000,  34000, 144000,  75000,  50000, 109600,  30000,\n",
       "       106000, 110000], dtype=int64)"
      ]
     },
     "execution_count": 54,
     "metadata": {},
     "output_type": "execute_result"
    }
   ],
   "source": [
    "bootstrap_20000[:10]"
   ]
  },
  {
   "cell_type": "code",
   "execution_count": 55,
   "id": "6b9e8443",
   "metadata": {},
   "outputs": [
    {
     "data": {
      "text/plain": [
       "3"
      ]
     },
     "execution_count": 55,
     "metadata": {},
     "output_type": "execute_result"
    }
   ],
   "source": [
    "arr_bootstraps = [bootstrap_1000,bootstrap_10000,bootstrap_20000]\n",
    "len(arr_bootstraps)"
   ]
  },
  {
   "cell_type": "code",
   "execution_count": 57,
   "id": "d2c97bbe",
   "metadata": {},
   "outputs": [
    {
     "data": {
      "text/plain": [
       "[array([ 67600,  72000,  60000, 120000,  95000,  32000,  60000,  30280,\n",
       "         95000,  80000,  73000,  39000,  10000,  49000,  48000,  19000,\n",
       "         70000,  45000,  63300,  30000, 105000,  50000,  45000,  73000,\n",
       "         60000,  37000,  57600, 108000,  40000,  70000,  79900,  53000,\n",
       "         51000,  63800,  60000, 120000,  80000,  44140,  29000, 120000,\n",
       "         40800,  86400,  80300,  55000,  68000,  32000,  63000,  43940,\n",
       "         31590,  49630,  75000, 100000,  69000, 103000,  33000, 125000,\n",
       "         47520,  46000, 100000,  55000,  34272,  56600,  65000,  57000,\n",
       "         78000,  38000, 170000,  24000,  53000,  64000,  95000,  35000,\n",
       "         79857,  56522,  80000,  24000,  53000,  70000,  62000,  60000,\n",
       "         45000,  44000,  50000,  45000, 110000,  47900,  91000,  40000,\n",
       "        110000,  73000, 151000,  75000, 114000, 122000,  57000,  99700,\n",
       "         78000,  80000,  58000,  42000,  30000,  60000,  98004,  85000,\n",
       "         68000,  36000,  30280,  55000, 110000, 160000,  30000, 135000,\n",
       "         85000,  95000,  72100,  54000, 120000,  49500,  64000,  76000,\n",
       "         60000,  74098, 104000, 108000,  38500,  42000,  30000,  27000,\n",
       "        153000,  30000,  42000,  30000,  75000,  87700,  55000,  48852,\n",
       "         54000, 100000,  47000,  37000,  40000,  50000,  40000, 125000,\n",
       "        170000, 110000,  29100,  86000,  67000,  50000,  45000,  34000,\n",
       "         60000,  85000,  50000, 107000,  85000,  65000, 100000,  80000,\n",
       "        170000,  41000,  77000,  46000,  55000,  41000, 125000,  56650,\n",
       "         27000,  60000,  35000, 104000, 110000,  35000,  75000,  48000,\n",
       "         37500,  35000,  57099,  32000,  46000,  87000, 111250,  63000,\n",
       "         28500,  90000,  70000,  54000,  50400,  90000,  38000,  59000,\n",
       "         85000,  36000,  48000,  80000,  54996,  40500,  78999,  70000,\n",
       "         16440,  75000,  52000,  66760, 100000,  66000,  55000,  50000,\n",
       "         83805,  43763,  65000,  40000,  55000,  85000, 100080,  75000,\n",
       "         24000,  75000,  55500,  80000, 100000, 115000, 150000,  50000,\n",
       "         39520,  73000, 115000,  33000, 105000,  32000,  73000,  73000,\n",
       "         12000,  50000, 112000,  49000,  60000,  34000,  64000,  40000,\n",
       "         72000,  78000,  48000,  43000,  40000,  93000,  75000,  42000,\n",
       "         26500,  55000,  63000,  80000,  71500, 100000,  58000,  85000,\n",
       "         30840,  45000,  86000,  43000,  80000,  28080,  19956,  73500,\n",
       "        105000,  90000,  69000,  60000,  80000,  37440,  48000,  56000,\n",
       "         60000,  58700,  30000, 120000,  90000,  65000,  98000,  50000,\n",
       "         68000,  65000,  90000,  53000,  40000,  52000,  70000,  80000,\n",
       "         85000, 110000,  35000,  95000, 104000,  54000,  40000,  66462,\n",
       "         27000,  65000, 110000,  20000,  37000,  91475,  31534,  52000,\n",
       "         63000,  50000,  69500, 100000,  43900,  36600,  47500,  58200,\n",
       "         72000,  46000,  61000,  30000, 105000,  80000, 180000,  57000,\n",
       "        125000,  54000,  61000, 108000, 102000,  44000,  74400,  52400,\n",
       "         59000,  10000,  78500,  39000,  60000,  78000,  90000,  31587,\n",
       "         60000, 110000,  38000,  70000,  75000,  80000,  52000, 175000,\n",
       "         90000,  88000,  64000,  65000,  45000,  21000, 120000,  60000,\n",
       "         65000,  72100,  69000,  70000,  45000,  63000,  95000,  57000,\n",
       "        108000,  90000,  52000,  52000,  90000,  78000,  28342,  35000,\n",
       "         65000,  25000,  43000,  35880, 110000,  54000, 100000,  62000,\n",
       "         46000,  52000,  56000,  24000,  53000,  30450,  46000, 122000,\n",
       "        166000,  40000,  80000,  55000,  45000,  75000, 150000,  84000,\n",
       "         51000,  78000,  25000,  40400,  32000,  60000, 107100,  62000,\n",
       "         33000,  24000,  60000, 158750,  72000,  32500,  75000,  47340,\n",
       "         77000, 125000,  75000, 135000,  75000,  38000,  42000, 120000,\n",
       "         90000,  77000,  52000,  24000,  80000,  54099,  85000,  70000,\n",
       "         65000,  70632,  70000,  60000,  34000,  37000, 130000,  95000,\n",
       "         59300,  65000,  75000,  57000,  50000,  72000,  30000,  86000,\n",
       "        150000,  72000,  30000,  56000,  41000, 102000,  45000,  32000,\n",
       "         75000,  70000,  55000,  26844,  40000,  66000,  30000,  48000,\n",
       "         52000,  50000,  82212,  90000,  76000,  70000,  44976, 183000,\n",
       "         75000,  97500,  38000,  95000,  27000,  64942,  59000, 110000,\n",
       "         25000,  17000,  22000,  40000,  56724,  20500,  42500,  42000,\n",
       "         40000,  44000, 107000,  28500,  37000, 135000,  50000,  52500,\n",
       "         82000, 110000,  58882,  75000, 179000,  38000,  69500,  40000,\n",
       "         58000,  75000,  20000,  49000,  25000, 150000,  66000,  28549,\n",
       "         65000, 120000,  36000,  90000,  63762, 150000, 105000,  61973,\n",
       "        115000,  50000,  88000,  85000,  53000,  75000,  66000, 125000,\n",
       "        105000,  71000,  70000,  39700,  70000,  67000,  83356,  54000,\n",
       "         74000,  28000,  45000,  69600,  31000,  75000,  60000,  90000,\n",
       "         14400,  36000,  96000,  48500,  36000,  35000, 150000,  56200,\n",
       "        120000,  60000,  85000, 140000,  35000,  99000,  32500,  57000,\n",
       "        186000,  36000,  96000, 100000,  88000,  42000, 110000,  61000,\n",
       "         71000,  65000,  52000,  50000,  80000,  36000,  50000, 126000,\n",
       "         46080,  47325,  46000,  40560,  53000,  60000,  90000,  50000,\n",
       "         75000,  35000,  53000,  44000,  30000,  70000,  70000,  73000,\n",
       "         14400,  46000,  54000,  64000,  57000,  54000,  92000, 140000,\n",
       "         25915,  30000,  44000,  72000,  65000,  55762,  35000,  28000,\n",
       "        141000,  20604, 115000,  50000,  30000,  27600,  31000,  98000,\n",
       "         35000,  46900, 165000, 135000,  62500, 106000,  88000,  55900,\n",
       "         70000,  55000,  50000,  48000,  78000,  70000,  68209, 132000,\n",
       "        115000, 103000,  90000,  55000,  67000,  98000,  50156, 115000,\n",
       "         78000,  57500,  62004,  52000,  62000, 120000, 115000,  72800,\n",
       "         67332,  78000,  42000, 100000,  56000,  38000,  53760,  85000,\n",
       "         42000,  60000,  37000,  53000,  45000,  70000,  99600,  57000,\n",
       "         52000,  52000, 117000,  93000,  51000,  40000,  50000,  67490,\n",
       "         32000,  45000,  36000, 102000,  28600,  65000,  38000, 110000,\n",
       "         65000, 105000,  87700,  91154, 125000,  65000,  75000,  30000,\n",
       "         65000,  98000,  81000,  42000, 150000,  66143,  60900,  72000,\n",
       "         40000,  50000,  30000,  62999,  38000,  30000,  86000,  55000,\n",
       "         38000,  56000,  42500,  79000,  40000,  50000,  63000,  68809,\n",
       "         42000,  35000,  55000, 112000,  72000, 110000,  64000,  34500,\n",
       "         30960,  21208,  72900,  28000,  80000,  80000,  70000, 119000,\n",
       "         25000,  92500, 145000, 120000,  72500,  70000,  80000, 119000,\n",
       "         36000,  81000,  75000,  40000,  60000,  24326,  34100, 143000,\n",
       "         37500,  87000,  26000,  63000,  70000,  86000,  55000,  85000,\n",
       "        100000, 104000, 122000,  75000, 190000,  92000,  78000,  90000,\n",
       "         35000,  50980,  55000,  90000,  90000,  42000,  95000,  71500,\n",
       "         90000,  37440,  17680,  83000,  80000, 108000, 117000,  54000,\n",
       "         70000,  85000,  71000,  42000, 120000,  85000,  80100,  85000,\n",
       "        160000,  48000,  41000, 123000,  70000, 136750,  73000,  52000,\n",
       "         46000,  30000,  83000,  50000,  25000,  65000,  40000,  86000,\n",
       "         85000,  42000,  52000,  84000,  65000,  65000,  55000,  65000,\n",
       "         92000,  25000,  36000,  70000,  90000,  70350, 120000,  52000,\n",
       "        112500, 125000,  70000,  89000,  28000,  73000,  45000,  36000,\n",
       "         25000,  42000,  40000,  75000,  52588,  53000, 145986,  40000,\n",
       "         30000,  69500,  54500,  18900,  28000,  31000,  48000,  42000,\n",
       "        110000, 108000,  27894, 125000,  70000,  41000,  48000,  65000,\n",
       "        175000,  50000,  58000,  21000,  60000,  58530,  55000, 114000,\n",
       "         50000, 183000,  60000,  42640,  46777, 104000,  45000,  32000,\n",
       "        184000,  55000,  46000,  85000,  55000,  38400,  48000,  54000,\n",
       "        120000,  48000,  68000,  55000,  47200,  71000,  43000,  50800,\n",
       "         36000,  35000,  55000,  36400, 131000, 120000,  42000,  70000,\n",
       "         56400,  60000,  70000,  86000,  97000, 194000,  68888,  35000,\n",
       "         33600,  40000, 145000,  52000,  64127,  40000,  96000,  30000,\n",
       "         25000,  80000,  53700,  82400,  73000,  79328,  55000,  50000,\n",
       "         75000,  50000,  76000,  35580, 110000,  58000, 122000,  70000,\n",
       "         68000,  42000,  25000, 137000,  90000,  67855,  30000,  20400,\n",
       "         25371, 120000, 120000, 110000,  66000,  45000,  27600,  85000,\n",
       "         80000, 175000,  76000,  55000,  88000,  55000, 134151,  42000,\n",
       "         55000,  40000,  46000,  45000,  42000,  42000,  65000,  65000,\n",
       "         31000,  38000,  70000, 110000,  60000,  30000,  61000, 186000,\n",
       "        140000,  30000,  38000,  82300, 120000,  36000,  36000,  20000,\n",
       "         58000,  40000, 100080,  45000,  59000,  47000, 104000, 121000,\n",
       "         98000,  45000,  52000,  79300,  25000, 100000,  60000,  85000,\n",
       "         53750,  70000,  85000,  36000,  43000,  35900,  80000,  55000,\n",
       "         75000,  30000,  33000,  28000,  33800, 103000,  90000,  31000,\n",
       "         50500,  55000,  70000,  49500,  95000,  55000,  58000,  42931],\n",
       "       dtype=int64),\n",
       " array([ 35000,  38000, 120000, ...,  39048,  60000, 120000], dtype=int64),\n",
       " array([ 23500,  82000,  34000, ...,  38000, 120000,  80000], dtype=int64)]"
      ]
     },
     "execution_count": 57,
     "metadata": {},
     "output_type": "execute_result"
    }
   ],
   "source": [
    "arr_bootstraps"
   ]
  },
  {
   "cell_type": "code",
   "execution_count": 58,
   "id": "e95be0fa",
   "metadata": {},
   "outputs": [
    {
     "name": "stdout",
     "output_type": "stream",
     "text": [
      "Bootstrap Stats for 1000 examples \n",
      "\n",
      "------------------------------------------------------------------------------\n",
      "\n",
      "Bootstrap STD :  32413.296512548277\n",
      "Bootstrap Mean :  67394.706\n",
      "Bootstrap Median:  60000.0\n",
      "Boostrap Bias,  1365.8124399999942\n",
      "Standard Error: 1024.9984345404505\n",
      "\n",
      "------------------------------------------------------------------------------\n",
      "\n",
      "Bootstrap Stats for 10000 examples \n",
      "\n",
      "------------------------------------------------------------------------------\n",
      "\n",
      "Bootstrap STD :  32756.44489367547\n",
      "Bootstrap Mean :  68522.7577\n",
      "Bootstrap Median:  61900.0\n",
      "Boostrap Bias,  237.7607399999979\n",
      "Standard Error: 327.56444893675473\n",
      "\n",
      "------------------------------------------------------------------------------\n",
      "\n",
      "Bootstrap Stats for 20000 examples \n",
      "\n",
      "------------------------------------------------------------------------------\n",
      "\n",
      "Bootstrap STD :  33008.37781362745\n",
      "Bootstrap Mean :  68688.49535\n",
      "Bootstrap Median:  61000.0\n",
      "Boostrap Bias,  72.02309000000241\n",
      "Standard Error: 233.40447787983553\n",
      "\n",
      "------------------------------------------------------------------------------\n",
      "\n"
     ]
    }
   ],
   "source": [
    "for i in range(len(arr_bootstraps)):\n",
    "    print('Bootstrap Stats for {} examples \\n'.format(len(arr_bootstraps[i])))\n",
    "    print('------------------------------------------------------------------------------\\n')\n",
    "    print('Bootstrap STD : ',np.std(arr_bootstraps[i],ddof=1))\n",
    "    print('Bootstrap Mean : ',np.mean(arr_bootstraps[i]))\n",
    "    print('Bootstrap Median: ',np.median(arr_bootstraps[i]))\n",
    "    print('Boostrap Bias, ',loans_income.x.mean() - np.mean(arr_bootstraps[i],axis=0))\n",
    "    print('Standard Error:',stats.sem(arr_bootstraps[i], ddof=1))\n",
    "    print('\\n------------------------------------------------------------------------------\\n')"
   ]
  },
  {
   "cell_type": "code",
   "execution_count": 60,
   "id": "ba77e4d1",
   "metadata": {},
   "outputs": [
    {
     "data": {
      "image/png": "[encoded data removed]",
      "text/plain": [
       "<Figure size 432x288 with 1 Axes>"
      ]
     },
     "metadata": {
      "needs_background": "light"
     },
     "output_type": "display_data"
    }
   ],
   "source": [
    "stats.probplot(loans_income.x, dist=\"norm\", plot=pylab)\n",
    "pylab.show()"
   ]
  },
  {
   "cell_type": "code",
   "execution_count": 61,
   "id": "3e40b6fe",
   "metadata": {},
   "outputs": [
    {
     "data": {
      "image/png": "[encoded data removed]",
      "text/plain": [
       "<Figure size 432x288 with 1 Axes>"
      ]
     },
     "metadata": {
      "needs_background": "light"
     },
     "output_type": "display_data"
    }
   ],
   "source": [
    "measurements = np.random.normal(loc = 20, scale = 5, size=100)   \n",
    "stats.probplot(measurements, dist=\"norm\", plot=pylab)\n",
    "pylab.show()"
   ]
  },
  {
   "cell_type": "markdown",
   "id": "77acb706",
   "metadata": {},
   "source": [
    "#### Second Datasets."
   ]
  },
  {
   "cell_type": "code",
   "execution_count": 72,
   "id": "a865755c",
   "metadata": {},
   "outputs": [
    {
     "data": {
      "text/html": [
       "<div>\n",
       "<style scoped>\n",
       "    .dataframe tbody tr th:only-of-type {\n",
       "        vertical-align: middle;\n",
       "    }\n",
       "\n",
       "    .dataframe tbody tr th {\n",
       "        vertical-align: top;\n",
       "    }\n",
       "\n",
       "    .dataframe thead th {\n",
       "        text-align: right;\n",
       "    }\n",
       "</style>\n",
       "<table border=\"1\" class=\"dataframe\">\n",
       "  <thead>\n",
       "    <tr style=\"text-align: right;\">\n",
       "      <th></th>\n",
       "      <th>Unnamed: 0</th>\n",
       "      <th>ADS</th>\n",
       "      <th>CA</th>\n",
       "      <th>MSFT</th>\n",
       "      <th>RHT</th>\n",
       "      <th>CTSH</th>\n",
       "      <th>CSC</th>\n",
       "      <th>EMC</th>\n",
       "      <th>IBM</th>\n",
       "      <th>XRX</th>\n",
       "      <th>...</th>\n",
       "      <th>WAT</th>\n",
       "      <th>ALXN</th>\n",
       "      <th>AMGN</th>\n",
       "      <th>BXLT</th>\n",
       "      <th>BIIB</th>\n",
       "      <th>CELG</th>\n",
       "      <th>GILD</th>\n",
       "      <th>REGN</th>\n",
       "      <th>VRTX</th>\n",
       "      <th>HSIC</th>\n",
       "    </tr>\n",
       "  </thead>\n",
       "  <tbody>\n",
       "    <tr>\n",
       "      <th>0</th>\n",
       "      <td>1993-01-29</td>\n",
       "      <td>0.0</td>\n",
       "      <td>0.060124</td>\n",
       "      <td>-0.022100</td>\n",
       "      <td>0.0</td>\n",
       "      <td>0.0</td>\n",
       "      <td>0.018897</td>\n",
       "      <td>0.007368</td>\n",
       "      <td>0.092165</td>\n",
       "      <td>0.259140</td>\n",
       "      <td>...</td>\n",
       "      <td>0.0</td>\n",
       "      <td>0.0</td>\n",
       "      <td>0.34716</td>\n",
       "      <td>0.0</td>\n",
       "      <td>0.04167</td>\n",
       "      <td>0.00000</td>\n",
       "      <td>0.015564</td>\n",
       "      <td>1.75</td>\n",
       "      <td>0.1250</td>\n",
       "      <td>0.0</td>\n",
       "    </tr>\n",
       "    <tr>\n",
       "      <th>1</th>\n",
       "      <td>1993-02-01</td>\n",
       "      <td>0.0</td>\n",
       "      <td>-0.180389</td>\n",
       "      <td>0.027621</td>\n",
       "      <td>0.0</td>\n",
       "      <td>0.0</td>\n",
       "      <td>0.018889</td>\n",
       "      <td>0.018425</td>\n",
       "      <td>0.115207</td>\n",
       "      <td>-0.100775</td>\n",
       "      <td>...</td>\n",
       "      <td>0.0</td>\n",
       "      <td>0.0</td>\n",
       "      <td>-0.23144</td>\n",
       "      <td>0.0</td>\n",
       "      <td>0.00000</td>\n",
       "      <td>-0.01041</td>\n",
       "      <td>0.007782</td>\n",
       "      <td>1.25</td>\n",
       "      <td>0.1250</td>\n",
       "      <td>0.0</td>\n",
       "    </tr>\n",
       "    <tr>\n",
       "      <th>2</th>\n",
       "      <td>1993-02-02</td>\n",
       "      <td>0.0</td>\n",
       "      <td>-0.120257</td>\n",
       "      <td>0.035900</td>\n",
       "      <td>0.0</td>\n",
       "      <td>0.0</td>\n",
       "      <td>-0.075573</td>\n",
       "      <td>0.029482</td>\n",
       "      <td>-0.023041</td>\n",
       "      <td>0.028796</td>\n",
       "      <td>...</td>\n",
       "      <td>0.0</td>\n",
       "      <td>0.0</td>\n",
       "      <td>-0.11572</td>\n",
       "      <td>0.0</td>\n",
       "      <td>0.00000</td>\n",
       "      <td>0.00000</td>\n",
       "      <td>-0.007792</td>\n",
       "      <td>-0.25</td>\n",
       "      <td>0.0000</td>\n",
       "      <td>0.0</td>\n",
       "    </tr>\n",
       "    <tr>\n",
       "      <th>3</th>\n",
       "      <td>1993-02-03</td>\n",
       "      <td>0.0</td>\n",
       "      <td>0.060124</td>\n",
       "      <td>-0.024857</td>\n",
       "      <td>0.0</td>\n",
       "      <td>0.0</td>\n",
       "      <td>-0.151128</td>\n",
       "      <td>0.003689</td>\n",
       "      <td>-0.253454</td>\n",
       "      <td>-0.043190</td>\n",
       "      <td>...</td>\n",
       "      <td>0.0</td>\n",
       "      <td>0.0</td>\n",
       "      <td>-0.08679</td>\n",
       "      <td>0.0</td>\n",
       "      <td>0.04167</td>\n",
       "      <td>-0.04167</td>\n",
       "      <td>-0.038919</td>\n",
       "      <td>-0.50</td>\n",
       "      <td>0.0625</td>\n",
       "      <td>0.0</td>\n",
       "    </tr>\n",
       "    <tr>\n",
       "      <th>4</th>\n",
       "      <td>1993-02-04</td>\n",
       "      <td>0.0</td>\n",
       "      <td>-0.360770</td>\n",
       "      <td>-0.060757</td>\n",
       "      <td>0.0</td>\n",
       "      <td>0.0</td>\n",
       "      <td>0.113350</td>\n",
       "      <td>-0.022114</td>\n",
       "      <td>0.069862</td>\n",
       "      <td>0.000000</td>\n",
       "      <td>...</td>\n",
       "      <td>0.0</td>\n",
       "      <td>0.0</td>\n",
       "      <td>0.14465</td>\n",
       "      <td>0.0</td>\n",
       "      <td>-0.04166</td>\n",
       "      <td>-0.03126</td>\n",
       "      <td>-0.046711</td>\n",
       "      <td>0.00</td>\n",
       "      <td>0.0625</td>\n",
       "      <td>0.0</td>\n",
       "    </tr>\n",
       "  </tbody>\n",
       "</table>\n",
       "<p>5 rows × 518 columns</p>\n",
       "</div>"
      ],
      "text/plain": [
       "   Unnamed: 0  ADS        CA      MSFT  RHT  CTSH       CSC       EMC  \\\n",
       "0  1993-01-29  0.0  0.060124 -0.022100  0.0   0.0  0.018897  0.007368   \n",
       "1  1993-02-01  0.0 -0.180389  0.027621  0.0   0.0  0.018889  0.018425   \n",
       "2  1993-02-02  0.0 -0.120257  0.035900  0.0   0.0 -0.075573  0.029482   \n",
       "3  1993-02-03  0.0  0.060124 -0.024857  0.0   0.0 -0.151128  0.003689   \n",
       "4  1993-02-04  0.0 -0.360770 -0.060757  0.0   0.0  0.113350 -0.022114   \n",
       "\n",
       "        IBM       XRX  ...  WAT  ALXN     AMGN  BXLT     BIIB     CELG  \\\n",
       "0  0.092165  0.259140  ...  0.0   0.0  0.34716   0.0  0.04167  0.00000   \n",
       "1  0.115207 -0.100775  ...  0.0   0.0 -0.23144   0.0  0.00000 -0.01041   \n",
       "2 -0.023041  0.028796  ...  0.0   0.0 -0.11572   0.0  0.00000  0.00000   \n",
       "3 -0.253454 -0.043190  ...  0.0   0.0 -0.08679   0.0  0.04167 -0.04167   \n",
       "4  0.069862  0.000000  ...  0.0   0.0  0.14465   0.0 -0.04166 -0.03126   \n",
       "\n",
       "       GILD  REGN    VRTX  HSIC  \n",
       "0  0.015564  1.75  0.1250   0.0  \n",
       "1  0.007782  1.25  0.1250   0.0  \n",
       "2 -0.007792 -0.25  0.0000   0.0  \n",
       "3 -0.038919 -0.50  0.0625   0.0  \n",
       "4 -0.046711  0.00  0.0625   0.0  \n",
       "\n",
       "[5 rows x 518 columns]"
      ]
     },
     "execution_count": 72,
     "metadata": {},
     "output_type": "execute_result"
    }
   ],
   "source": [
    "sp500_px.head()"
   ]
  },
  {
   "cell_type": "code",
   "execution_count": 69,
   "id": "1881e6ed",
   "metadata": {},
   "outputs": [],
   "source": [
    "shapes = sp500_px.shape"
   ]
  },
  {
   "cell_type": "code",
   "execution_count": 70,
   "id": "63c3dca8",
   "metadata": {},
   "outputs": [
    {
     "data": {
      "text/plain": [
       "(5647, 518)"
      ]
     },
     "execution_count": 70,
     "metadata": {},
     "output_type": "execute_result"
    }
   ],
   "source": [
    "shapes"
   ]
  },
  {
   "cell_type": "code",
   "execution_count": 73,
   "id": "6475f608",
   "metadata": {},
   "outputs": [],
   "source": [
    "nflx = sp500_px.loc[:,'NFLX']"
   ]
  },
  {
   "cell_type": "code",
   "execution_count": 74,
   "id": "810c3647",
   "metadata": {},
   "outputs": [
    {
     "data": {
      "image/png": "[encoded data removed]",
      "text/plain": [
       "<Figure size 432x288 with 1 Axes>"
      ]
     },
     "metadata": {
      "needs_background": "light"
     },
     "output_type": "display_data"
    },
    {
     "name": "stderr",
     "output_type": "stream",
     "text": [
      "C:\\Users\\karan\\anaconda3\\lib\\site-packages\\pandas\\core\\arraylike.py:358: RuntimeWarning: divide by zero encountered in log\n",
      "  result = getattr(ufunc, method)(*inputs, **kwargs)\n",
      "C:\\Users\\karan\\anaconda3\\lib\\site-packages\\pandas\\core\\arraylike.py:358: RuntimeWarning: invalid value encountered in log\n",
      "  result = getattr(ufunc, method)(*inputs, **kwargs)\n",
      "C:\\Users\\karan\\anaconda3\\lib\\site-packages\\numpy\\lib\\function_base.py:1281: RuntimeWarning: invalid value encountered in subtract\n",
      "  a = op(a[slice1], a[slice2])\n"
     ]
    },
    {
     "data": {
      "image/png": "[encoded data removed]",
      "text/plain": [
       "<Figure size 432x288 with 1 Axes>"
      ]
     },
     "metadata": {
      "needs_background": "light"
     },
     "output_type": "display_data"
    }
   ],
   "source": [
    "stats.probplot(nflx, dist=\"norm\", plot=pylab)\n",
    "pylab.show()\n",
    "\n",
    "# After standardizing tread\n",
    "\n",
    "treated_nflx = np.diff(np.log(nflx))\n",
    "stats.probplot(treated_nflx, dist=\"norm\", plot=pylab,fit=True)\n",
    "pylab.show()"
   ]
  },
  {
   "cell_type": "code",
   "execution_count": null,
   "id": "6c0fb141",
   "metadata": {},
   "outputs": [],
   "source": []
  }
 ],
 "metadata": {
  "kernelspec": {
   "display_name": "Python 3",
   "language": "python",
   "name": "python3"
  },
  "language_info": {
   "codemirror_mode": {
    "name": "ipython",
    "version": 3
   },
   "file_extension": ".py",
   "mimetype": "text/x-python",
   "name": "python",
   "nbconvert_exporter": "python",
   "pygments_lexer": "ipython3",
   "version": "3.8.8"
  }
 },
 "nbformat": 4,
 "nbformat_minor": 5
}
